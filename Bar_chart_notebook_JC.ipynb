{
 "cells": [
  {
   "cell_type": "code",
   "execution_count": 64,
   "id": "9ca2049a",
   "metadata": {},
   "outputs": [],
   "source": [
    "# Python SQL toolkit and Object Relational Mapper\n",
    "import sqlalchemy\n",
    "from sqlalchemy.ext.automap import automap_base\n",
    "from sqlalchemy.orm import Session\n",
    "from sqlalchemy import create_engine, func,inspect\n",
    "from pprint import pprint\n",
    "import pandas as pd"
   ]
  },
  {
   "cell_type": "code",
   "execution_count": 65,
   "id": "d0c6bfa8",
   "metadata": {},
   "outputs": [],
   "source": [
    "# create engine to sqlite data\n",
    "engine = create_engine(\"sqlite:///abnb.sqlite\")"
   ]
  },
  {
   "cell_type": "code",
   "execution_count": 66,
   "id": "3ea5ad10",
   "metadata": {},
   "outputs": [
    {
     "data": {
      "text/plain": [
       "[(0, 2441, 'Cozy Artist’s Abode, NE Mpls - Pets, Wifi, Roku TV', 2680, 1, 2, 'Hennepin', 45.00862, -93.23424, 'Entire home', 'Entire home/apt', 5, 10.0, 1.0, '[\"Hot water\", \"Keypad\", \"Long term stays allowed\", \"Wifi\", \"Dedicated workspace\", \"Hangers\", \"First aid kit\", \"Free parking on premises\", \"Refrigerat ... (411 characters truncated) ... ard \\\\u2013 Fully fenced\", \"Oven\", \"Self check-in\", \"Bathtub\", \"Luggage dropoff allowed\", \"Hair dryer\", \"Fire extinguisher\", \"Carbon monoxide alarm\"]', 91.0, 1, 24, 24, 24, 24, 298, 4.8, 4.72, 4.93, 4.93, 4.8, 4.71),\n",
       " (4697, 4534, 'Charming, 1 or 2BR + private bath, near downtown', 5811, 1, 2, 'Hennepin', 44.94566, -93.35721, 'Private room in home', 'Private room', 5, 10.0, 2.0, '[\"Hot water\", \"Host greets you\", \"Dining table\", \"Bed linens\", \"Dishwasher\", \"Wifi\", \"Dedicated workspace\", \"Garden view\", \"Hangers\", \"First aid kit\" ... (461 characters truncated) ...  \"Room-darkening shades\", \"Outdoor dining area\", \"Kitchen\", \"Books and reading material\", \"Hair dryer\", \"Fire extinguisher\", \"Carbon monoxide alarm\"]', 58.0, 1, 15, 45, 75, 350, 209, 4.88, 4.92, 4.92, 4.93, 4.86, 4.91)]"
      ]
     },
     "execution_count": 66,
     "metadata": {},
     "output_type": "execute_result"
    }
   ],
   "source": [
    "engine.execute('SELECT * FROM bnb_dset LIMIT 2').fetchall()"
   ]
  },
  {
   "cell_type": "code",
   "execution_count": 67,
   "id": "3fa80f17",
   "metadata": {},
   "outputs": [
    {
     "name": "stdout",
     "output_type": "stream",
     "text": [
      "index INTEGER\n",
      "id INTEGER\n",
      "name TEXT\n",
      "host_id INTEGER\n",
      "host_is_superhost INTEGER\n",
      "host_total_listings_count INTEGER\n",
      "county TEXT\n",
      "latitude REAL\n",
      "longitude REAL\n",
      "property_type TEXT\n",
      "room_type TEXT\n",
      "accommodates INTEGER\n",
      "bathrooms REAL\n",
      "bedrooms REAL\n",
      "amenities TEXT\n",
      "price REAL\n",
      "has_availability INTEGER\n",
      "availability_30 INTEGER\n",
      "availability_60 INTEGER\n",
      "availability_90 INTEGER\n",
      "availability_365 INTEGER\n",
      "number_of_reviews INTEGER\n",
      "review_scores_rating REAL\n",
      "review_scores_cleanliness REAL\n",
      "review_scores_checkin REAL\n",
      "review_scores_communication REAL\n",
      "review_scores_location REAL\n",
      "review_scores_value REAL\n"
     ]
    }
   ],
   "source": [
    "# Inspect to look at columns\n",
    "inspector= inspect(engine)\n",
    "column_1= inspector.get_columns('bnb_dset')\n",
    "\n",
    "for c in column_1:\n",
    "    print(c['name'],c['type'])"
   ]
  },
  {
   "cell_type": "code",
   "execution_count": 68,
   "id": "50c8539e",
   "metadata": {},
   "outputs": [],
   "source": [
    "# Reflect the existing databse in a new model\n",
    "Base= automap_base()\n",
    "Base.prepare(autoload_with=engine)\n",
    "bar_info = Base.classes.bnb_dset"
   ]
  },
  {
   "cell_type": "code",
   "execution_count": 69,
   "id": "fc6afd84",
   "metadata": {},
   "outputs": [],
   "source": [
    "session = Session(engine)"
   ]
  },
  {
   "cell_type": "code",
   "execution_count": 70,
   "id": "e52e7b7a",
   "metadata": {},
   "outputs": [
    {
     "data": {
      "text/plain": [
       "['bnb_dset']"
      ]
     },
     "execution_count": 70,
     "metadata": {},
     "output_type": "execute_result"
    }
   ],
   "source": [
    "# View all of the classes that automap found\n",
    "Base.classes.keys()"
   ]
  },
  {
   "cell_type": "code",
   "execution_count": 6,
   "id": "70946299",
   "metadata": {},
   "outputs": [],
   "source": [
    "# Refrence to each table\n",
    "data_set= Base.classes.bnb_dset\n"
   ]
  },
  {
   "cell_type": "code",
   "execution_count": null,
   "id": "2f825bdd",
   "metadata": {},
   "outputs": [],
   "source": []
  },
  {
   "cell_type": "code",
   "execution_count": 71,
   "id": "8dc0ac1c",
   "metadata": {},
   "outputs": [
    {
     "data": {
      "text/plain": [
       "[('Anoka', 4.825102040816325, 184.7482993197279, 4.797959183673471, 4.789931972789116),\n",
       " ('Carver', 4.846607142857143, 301.0, 4.824285714285714, 4.753571428571428),\n",
       " ('Chisago', 4.815200000000001, 225.6, 4.823866666666667, 4.7350666666666665),\n",
       " ('Dakota', 4.783515151515153, 191.86060606060607, 4.763515151515151, 4.766424242424242),\n",
       " ('Hennepin', 4.817057623661388, 158.63284038755737, 4.812299847016822, 4.77089750127486),\n",
       " ('Isanti', 4.908695652173913, 228.1304347826087, 4.880434782608695, 4.84608695652174),\n",
       " ('Le Sueur', 4.873125, 286.9375, 4.92375, 4.799999999999999),\n",
       " ('Mille Lacs', 4.806619718309858, 280.8169014084507, 4.770281690140845, 4.739436619718311),\n",
       " ('Pierce', 4.908837209302327, 255.69767441860466, 4.909999999999999, 4.800697674418605),\n",
       " ('Ramsey', 4.806024423337856, 138.95251017639077, 4.785237449118046, 4.767584803256446),\n",
       " ('Scott', 4.717380952380952, 195.14285714285714, 4.695238095238096, 4.676666666666666),\n",
       " ('Sherburne', 4.7655737704918035, 140.55737704918033, 4.800327868852459, 4.665737704918032),\n",
       " ('Sibley', 4.975, 132.75, 4.995, 4.9399999999999995),\n",
       " ('St. Croix', 4.806666666666667, 310.49122807017545, 4.840350877192981, 4.768771929824562),\n",
       " ('Washington', 4.863872832369941, 280.95375722543355, 4.855780346820809, 4.747976878612718),\n",
       " ('Wright', 4.86422680412371, 200.10309278350516, 4.813092783505155, 4.8278350515463915)]"
      ]
     },
     "execution_count": 71,
     "metadata": {},
     "output_type": "execute_result"
    }
   ],
   "source": [
    "# Query for average price, review, and cleanliness score by county\n",
    "# Sort the result by county\n",
    "\n",
    "list_info = [bar_info.county,\n",
    "       func.avg(bar_info.review_scores_rating), \n",
    "       func.avg(bar_info.price), \n",
    "       func.avg(bar_info.review_scores_cleanliness),\n",
    "       func.avg(bar_info.review_scores_value)]\n",
    "list_info_avg = session.query(*list_info).\\\n",
    "    group_by(bar_info.county).\\\n",
    "    order_by(bar_info.county).all()\n",
    "list_info_avg"
   ]
  },
  {
   "cell_type": "code",
   "execution_count": 72,
   "id": "1a154245",
   "metadata": {},
   "outputs": [],
   "source": [
    "df = pd.DataFrame(list_info_avg, columns=['county', 'review_scores_rating', 'price', 'review_scores_cleanliness','review_scores_value'])"
   ]
  },
  {
   "cell_type": "code",
   "execution_count": 73,
   "id": "93538128",
   "metadata": {},
   "outputs": [
    {
     "data": {
      "text/html": [
       "<div>\n",
       "<style scoped>\n",
       "    .dataframe tbody tr th:only-of-type {\n",
       "        vertical-align: middle;\n",
       "    }\n",
       "\n",
       "    .dataframe tbody tr th {\n",
       "        vertical-align: top;\n",
       "    }\n",
       "\n",
       "    .dataframe thead th {\n",
       "        text-align: right;\n",
       "    }\n",
       "</style>\n",
       "<table border=\"1\" class=\"dataframe\">\n",
       "  <thead>\n",
       "    <tr style=\"text-align: right;\">\n",
       "      <th></th>\n",
       "      <th>county</th>\n",
       "      <th>review_scores_rating</th>\n",
       "      <th>price</th>\n",
       "      <th>review_scores_cleanliness</th>\n",
       "      <th>review_scores_value</th>\n",
       "    </tr>\n",
       "  </thead>\n",
       "  <tbody>\n",
       "    <tr>\n",
       "      <th>0</th>\n",
       "      <td>Anoka</td>\n",
       "      <td>4.825102</td>\n",
       "      <td>184.748299</td>\n",
       "      <td>4.797959</td>\n",
       "      <td>4.789932</td>\n",
       "    </tr>\n",
       "    <tr>\n",
       "      <th>1</th>\n",
       "      <td>Carver</td>\n",
       "      <td>4.846607</td>\n",
       "      <td>301.000000</td>\n",
       "      <td>4.824286</td>\n",
       "      <td>4.753571</td>\n",
       "    </tr>\n",
       "    <tr>\n",
       "      <th>2</th>\n",
       "      <td>Chisago</td>\n",
       "      <td>4.815200</td>\n",
       "      <td>225.600000</td>\n",
       "      <td>4.823867</td>\n",
       "      <td>4.735067</td>\n",
       "    </tr>\n",
       "    <tr>\n",
       "      <th>3</th>\n",
       "      <td>Dakota</td>\n",
       "      <td>4.783515</td>\n",
       "      <td>191.860606</td>\n",
       "      <td>4.763515</td>\n",
       "      <td>4.766424</td>\n",
       "    </tr>\n",
       "    <tr>\n",
       "      <th>4</th>\n",
       "      <td>Hennepin</td>\n",
       "      <td>4.817058</td>\n",
       "      <td>158.632840</td>\n",
       "      <td>4.812300</td>\n",
       "      <td>4.770898</td>\n",
       "    </tr>\n",
       "    <tr>\n",
       "      <th>5</th>\n",
       "      <td>Isanti</td>\n",
       "      <td>4.908696</td>\n",
       "      <td>228.130435</td>\n",
       "      <td>4.880435</td>\n",
       "      <td>4.846087</td>\n",
       "    </tr>\n",
       "    <tr>\n",
       "      <th>6</th>\n",
       "      <td>Le Sueur</td>\n",
       "      <td>4.873125</td>\n",
       "      <td>286.937500</td>\n",
       "      <td>4.923750</td>\n",
       "      <td>4.800000</td>\n",
       "    </tr>\n",
       "    <tr>\n",
       "      <th>7</th>\n",
       "      <td>Mille Lacs</td>\n",
       "      <td>4.806620</td>\n",
       "      <td>280.816901</td>\n",
       "      <td>4.770282</td>\n",
       "      <td>4.739437</td>\n",
       "    </tr>\n",
       "    <tr>\n",
       "      <th>8</th>\n",
       "      <td>Pierce</td>\n",
       "      <td>4.908837</td>\n",
       "      <td>255.697674</td>\n",
       "      <td>4.910000</td>\n",
       "      <td>4.800698</td>\n",
       "    </tr>\n",
       "    <tr>\n",
       "      <th>9</th>\n",
       "      <td>Ramsey</td>\n",
       "      <td>4.806024</td>\n",
       "      <td>138.952510</td>\n",
       "      <td>4.785237</td>\n",
       "      <td>4.767585</td>\n",
       "    </tr>\n",
       "    <tr>\n",
       "      <th>10</th>\n",
       "      <td>Scott</td>\n",
       "      <td>4.717381</td>\n",
       "      <td>195.142857</td>\n",
       "      <td>4.695238</td>\n",
       "      <td>4.676667</td>\n",
       "    </tr>\n",
       "    <tr>\n",
       "      <th>11</th>\n",
       "      <td>Sherburne</td>\n",
       "      <td>4.765574</td>\n",
       "      <td>140.557377</td>\n",
       "      <td>4.800328</td>\n",
       "      <td>4.665738</td>\n",
       "    </tr>\n",
       "    <tr>\n",
       "      <th>12</th>\n",
       "      <td>Sibley</td>\n",
       "      <td>4.975000</td>\n",
       "      <td>132.750000</td>\n",
       "      <td>4.995000</td>\n",
       "      <td>4.940000</td>\n",
       "    </tr>\n",
       "    <tr>\n",
       "      <th>13</th>\n",
       "      <td>St. Croix</td>\n",
       "      <td>4.806667</td>\n",
       "      <td>310.491228</td>\n",
       "      <td>4.840351</td>\n",
       "      <td>4.768772</td>\n",
       "    </tr>\n",
       "    <tr>\n",
       "      <th>14</th>\n",
       "      <td>Washington</td>\n",
       "      <td>4.863873</td>\n",
       "      <td>280.953757</td>\n",
       "      <td>4.855780</td>\n",
       "      <td>4.747977</td>\n",
       "    </tr>\n",
       "    <tr>\n",
       "      <th>15</th>\n",
       "      <td>Wright</td>\n",
       "      <td>4.864227</td>\n",
       "      <td>200.103093</td>\n",
       "      <td>4.813093</td>\n",
       "      <td>4.827835</td>\n",
       "    </tr>\n",
       "  </tbody>\n",
       "</table>\n",
       "</div>"
      ],
      "text/plain": [
       "        county  review_scores_rating       price  review_scores_cleanliness  \\\n",
       "0        Anoka              4.825102  184.748299                   4.797959   \n",
       "1       Carver              4.846607  301.000000                   4.824286   \n",
       "2      Chisago              4.815200  225.600000                   4.823867   \n",
       "3       Dakota              4.783515  191.860606                   4.763515   \n",
       "4     Hennepin              4.817058  158.632840                   4.812300   \n",
       "5       Isanti              4.908696  228.130435                   4.880435   \n",
       "6     Le Sueur              4.873125  286.937500                   4.923750   \n",
       "7   Mille Lacs              4.806620  280.816901                   4.770282   \n",
       "8       Pierce              4.908837  255.697674                   4.910000   \n",
       "9       Ramsey              4.806024  138.952510                   4.785237   \n",
       "10       Scott              4.717381  195.142857                   4.695238   \n",
       "11   Sherburne              4.765574  140.557377                   4.800328   \n",
       "12      Sibley              4.975000  132.750000                   4.995000   \n",
       "13   St. Croix              4.806667  310.491228                   4.840351   \n",
       "14  Washington              4.863873  280.953757                   4.855780   \n",
       "15      Wright              4.864227  200.103093                   4.813093   \n",
       "\n",
       "    review_scores_value  \n",
       "0              4.789932  \n",
       "1              4.753571  \n",
       "2              4.735067  \n",
       "3              4.766424  \n",
       "4              4.770898  \n",
       "5              4.846087  \n",
       "6              4.800000  \n",
       "7              4.739437  \n",
       "8              4.800698  \n",
       "9              4.767585  \n",
       "10             4.676667  \n",
       "11             4.665738  \n",
       "12             4.940000  \n",
       "13             4.768772  \n",
       "14             4.747977  \n",
       "15             4.827835  "
      ]
     },
     "execution_count": 73,
     "metadata": {},
     "output_type": "execute_result"
    }
   ],
   "source": [
    "df"
   ]
  },
  {
   "cell_type": "code",
   "execution_count": 74,
   "id": "8ab85096",
   "metadata": {},
   "outputs": [
    {
     "data": {
      "text/plain": [
       "count     16.000000\n",
       "mean     219.523442\n",
       "std       60.728407\n",
       "min      132.750000\n",
       "25%      178.219435\n",
       "50%      212.851546\n",
       "75%      280.851115\n",
       "max      310.491228\n",
       "Name: price, dtype: float64"
      ]
     },
     "execution_count": 74,
     "metadata": {},
     "output_type": "execute_result"
    }
   ],
   "source": [
    "df['price'].describe()"
   ]
  },
  {
   "cell_type": "code",
   "execution_count": 75,
   "id": "03922ede",
   "metadata": {},
   "outputs": [
    {
     "data": {
      "text/html": [
       "<div>\n",
       "<style scoped>\n",
       "    .dataframe tbody tr th:only-of-type {\n",
       "        vertical-align: middle;\n",
       "    }\n",
       "\n",
       "    .dataframe tbody tr th {\n",
       "        vertical-align: top;\n",
       "    }\n",
       "\n",
       "    .dataframe thead th {\n",
       "        text-align: right;\n",
       "    }\n",
       "</style>\n",
       "<table border=\"1\" class=\"dataframe\">\n",
       "  <thead>\n",
       "    <tr style=\"text-align: right;\">\n",
       "      <th></th>\n",
       "      <th>review_scores_rating</th>\n",
       "      <th>price</th>\n",
       "      <th>review_scores_cleanliness</th>\n",
       "      <th>review_scores_value</th>\n",
       "    </tr>\n",
       "  </thead>\n",
       "  <tbody>\n",
       "    <tr>\n",
       "      <th>count</th>\n",
       "      <td>16.000000</td>\n",
       "      <td>16.000000</td>\n",
       "      <td>16.000000</td>\n",
       "      <td>16.000000</td>\n",
       "    </tr>\n",
       "    <tr>\n",
       "      <th>mean</th>\n",
       "      <td>4.836469</td>\n",
       "      <td>219.523442</td>\n",
       "      <td>4.830714</td>\n",
       "      <td>4.774793</td>\n",
       "    </tr>\n",
       "    <tr>\n",
       "      <th>std</th>\n",
       "      <td>0.062337</td>\n",
       "      <td>60.728407</td>\n",
       "      <td>0.071390</td>\n",
       "      <td>0.064507</td>\n",
       "    </tr>\n",
       "    <tr>\n",
       "      <th>min</th>\n",
       "      <td>4.717381</td>\n",
       "      <td>132.750000</td>\n",
       "      <td>4.695238</td>\n",
       "      <td>4.665738</td>\n",
       "    </tr>\n",
       "    <tr>\n",
       "      <th>25%</th>\n",
       "      <td>4.806471</td>\n",
       "      <td>178.219435</td>\n",
       "      <td>4.794779</td>\n",
       "      <td>4.745842</td>\n",
       "    </tr>\n",
       "    <tr>\n",
       "      <th>50%</th>\n",
       "      <td>4.821080</td>\n",
       "      <td>212.851546</td>\n",
       "      <td>4.818480</td>\n",
       "      <td>4.768178</td>\n",
       "    </tr>\n",
       "    <tr>\n",
       "      <th>75%</th>\n",
       "      <td>4.866451</td>\n",
       "      <td>280.851115</td>\n",
       "      <td>4.861944</td>\n",
       "      <td>4.800174</td>\n",
       "    </tr>\n",
       "    <tr>\n",
       "      <th>max</th>\n",
       "      <td>4.975000</td>\n",
       "      <td>310.491228</td>\n",
       "      <td>4.995000</td>\n",
       "      <td>4.940000</td>\n",
       "    </tr>\n",
       "  </tbody>\n",
       "</table>\n",
       "</div>"
      ],
      "text/plain": [
       "       review_scores_rating       price  review_scores_cleanliness  \\\n",
       "count             16.000000   16.000000                  16.000000   \n",
       "mean               4.836469  219.523442                   4.830714   \n",
       "std                0.062337   60.728407                   0.071390   \n",
       "min                4.717381  132.750000                   4.695238   \n",
       "25%                4.806471  178.219435                   4.794779   \n",
       "50%                4.821080  212.851546                   4.818480   \n",
       "75%                4.866451  280.851115                   4.861944   \n",
       "max                4.975000  310.491228                   4.995000   \n",
       "\n",
       "       review_scores_value  \n",
       "count            16.000000  \n",
       "mean              4.774793  \n",
       "std               0.064507  \n",
       "min               4.665738  \n",
       "25%               4.745842  \n",
       "50%               4.768178  \n",
       "75%               4.800174  \n",
       "max               4.940000  "
      ]
     },
     "execution_count": 75,
     "metadata": {},
     "output_type": "execute_result"
    }
   ],
   "source": [
    "df.describe()"
   ]
  },
  {
   "cell_type": "code",
   "execution_count": 76,
   "id": "26c13557",
   "metadata": {},
   "outputs": [
    {
     "data": {
      "text/plain": [
       "<AxesSubplot:xlabel='county'>"
      ]
     },
     "execution_count": 76,
     "metadata": {},
     "output_type": "execute_result"
    },
    {
     "data": {
      "image/png": "[encoded data removed]",
      "text/plain": [
       "<Figure size 640x480 with 1 Axes>"
      ]
     },
     "metadata": {},
     "output_type": "display_data"
    }
   ],
   "source": [
    "df.plot.bar(x='county')"
   ]
  },
  {
   "cell_type": "code",
   "execution_count": 77,
   "id": "1804b22e",
   "metadata": {},
   "outputs": [
    {
     "data": {
      "text/plain": [
       "<AxesSubplot:xlabel='review_scores_rating'>"
      ]
     },
     "execution_count": 77,
     "metadata": {},
     "output_type": "execute_result"
    },
    {
     "data": {
      "image/png": "[encoded data removed]",
      "text/plain": [
       "<Figure size 640x480 with 1 Axes>"
      ]
     },
     "metadata": {},
     "output_type": "display_data"
    }
   ],
   "source": [
    "df.plot(kind='bar', x='review_scores_rating', y='price')"
   ]
  },
  {
   "cell_type": "code",
   "execution_count": 78,
   "id": "7bd471a9",
   "metadata": {},
   "outputs": [],
   "source": [
    "#  County, Price, Bedrooms, Review Scores_rating\n",
    "session=Session(engine)\n",
    "listing= data_set.host_total_listings_count\n",
    "county= data_set.county\n",
    "price= data_set.price\n",
    "bedrooms= data_set.bedrooms\n",
    "rs= data_set.review_scores_rating\n",
    "\n",
    "sel= [listing,county,price,bedrooms,rs]\n",
    "query_2= session.query(*sel).limit(10).all()\n",
    "\n",
    "bar_g= []\n",
    "for l,c,p,b,r in query_2:\n",
    "    dict_2={}\n",
    "    dict_2[\"listing\"]= l\n",
    "    dict_2[\"county\"]=c\n",
    "    dict_2[\"price\"]=p\n",
    "    dict_2[\"bedroom\"]=b\n",
    "    dict_2[\"review_score\"]=r\n",
    "    bar_g.append(dict_2)"
   ]
  },
  {
   "cell_type": "code",
   "execution_count": 79,
   "id": "321590ca",
   "metadata": {},
   "outputs": [
    {
     "data": {
      "text/plain": [
       "[{'listing': 2,\n",
       "  'county': 'Hennepin',\n",
       "  'price': 91.0,\n",
       "  'bedroom': 1.0,\n",
       "  'review_score': 4.8},\n",
       " {'listing': 2,\n",
       "  'county': 'Hennepin',\n",
       "  'price': 58.0,\n",
       "  'bedroom': 2.0,\n",
       "  'review_score': 4.88},\n",
       " {'listing': 2,\n",
       "  'county': 'Hennepin',\n",
       "  'price': 64.0,\n",
       "  'bedroom': 2.0,\n",
       "  'review_score': 4.78},\n",
       " {'listing': 2,\n",
       "  'county': 'Hennepin',\n",
       "  'price': 64.0,\n",
       "  'bedroom': 2.0,\n",
       "  'review_score': 4.96},\n",
       " {'listing': 23,\n",
       "  'county': 'Hennepin',\n",
       "  'price': 167.0,\n",
       "  'bedroom': 5.0,\n",
       "  'review_score': 4.93},\n",
       " {'listing': 1,\n",
       "  'county': 'Hennepin',\n",
       "  'price': 438.0,\n",
       "  'bedroom': 5.0,\n",
       "  'review_score': 5.0},\n",
       " {'listing': 2,\n",
       "  'county': 'Hennepin',\n",
       "  'price': 125.0,\n",
       "  'bedroom': 1.0,\n",
       "  'review_score': 4.93},\n",
       " {'listing': 4,\n",
       "  'county': 'Ramsey',\n",
       "  'price': 75.0,\n",
       "  'bedroom': 1.0,\n",
       "  'review_score': 4.9},\n",
       " {'listing': 1,\n",
       "  'county': 'Hennepin',\n",
       "  'price': 70.0,\n",
       "  'bedroom': 1.0,\n",
       "  'review_score': 4.78},\n",
       " {'listing': 4,\n",
       "  'county': 'Ramsey',\n",
       "  'price': 48.0,\n",
       "  'bedroom': 1.0,\n",
       "  'review_score': 4.87}]"
      ]
     },
     "execution_count": 79,
     "metadata": {},
     "output_type": "execute_result"
    }
   ],
   "source": [
    "bar_g"
   ]
  },
  {
   "cell_type": "code",
   "execution_count": null,
   "id": "70651c64",
   "metadata": {},
   "outputs": [],
   "source": []
  }
 ],
 "metadata": {
  "kernelspec": {
   "display_name": "PythonData",
   "language": "python",
   "name": "pythondata"
  },
  "language_info": {
   "codemirror_mode": {
    "name": "ipython",
    "version": 3
   },
   "file_extension": ".py",
   "mimetype": "text/x-python",
   "name": "python",
   "nbconvert_exporter": "python",
   "pygments_lexer": "ipython3",
   "version": "3.9.13"
  }
 },
 "nbformat": 4,
 "nbformat_minor": 5
}
