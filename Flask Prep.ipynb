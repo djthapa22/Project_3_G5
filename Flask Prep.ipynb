{
 "cells": [
  {
   "cell_type": "code",
   "execution_count": 1,
   "id": "1c181d17",
   "metadata": {},
   "outputs": [],
   "source": [
    "# Python SQL toolkit and Object Relational Mapper\n",
    "import sqlalchemy\n",
    "from sqlalchemy.ext.automap import automap_base\n",
    "from sqlalchemy.orm import Session\n",
    "from sqlalchemy import create_engine, func,inspect\n",
    "from pprint import pprint"
   ]
  },
  {
   "cell_type": "code",
   "execution_count": 2,
   "id": "bd25e38c",
   "metadata": {},
   "outputs": [],
   "source": [
    "# create engine to sqlite data\n",
    "engine = create_engine(\"sqlite:///abnb.sqlite\")"
   ]
  },
  {
   "cell_type": "code",
   "execution_count": 3,
   "id": "c7c5bfe6",
   "metadata": {},
   "outputs": [],
   "source": [
    "# Reflect the existing databse in a new model\n",
    "Base= automap_base()\n",
    "Base.prepare(autoload_with=engine)"
   ]
  },
  {
   "cell_type": "code",
   "execution_count": 4,
   "id": "96c3406c",
   "metadata": {},
   "outputs": [
    {
     "data": {
      "text/plain": [
       "['bnb_dset']"
      ]
     },
     "execution_count": 4,
     "metadata": {},
     "output_type": "execute_result"
    }
   ],
   "source": [
    "# View all of the classes that automap found\n",
    "Base.classes.keys()"
   ]
  },
  {
   "cell_type": "code",
   "execution_count": 5,
   "id": "d4032f45",
   "metadata": {},
   "outputs": [],
   "source": [
    "# Refrence to each table\n",
    "data_set= Base.classes.bnb_dset\n"
   ]
  },
  {
   "cell_type": "code",
   "execution_count": 6,
   "id": "7abc73f2",
   "metadata": {},
   "outputs": [],
   "source": [
    "# Create our session\n",
    "session= Session(engine)"
   ]
  },
  {
   "cell_type": "code",
   "execution_count": 9,
   "id": "a8b85e7d",
   "metadata": {},
   "outputs": [],
   "source": [
    "# Inspect to look at columns\n",
    "inspector= inspect(engine)\n",
    "column_1= inspector.get_columns('lattidue')\n",
    "\n",
    "for c in column_1:\n",
    "    print(c['name'],c['type'])\n"
   ]
  },
  {
   "cell_type": "code",
   "execution_count": 11,
   "id": "90e57ed9",
   "metadata": {},
   "outputs": [
    {
     "name": "stdout",
     "output_type": "stream",
     "text": [
      "('Cozy Artist’s Abode, NE Mpls - Pets, Wifi, Roku TV',)\n",
      "('Charming, 1 or 2BR + private bath, near downtown',)\n",
      "('Parks, Lakes, Downtown, Light rail',)\n",
      "('Rest and Rehearsal Space',)\n",
      "('★ParkFront ★ Walk 2 Downtown ★ Bike Score 98★',)\n"
     ]
    }
   ],
   "source": [
    "# Unpacking lat\n",
    "session= Session(engine)\n",
    "data= session.query(data_set.name).limit(5)\n",
    "for d in data:\n",
    "     pprint(d)"
   ]
  },
  {
   "cell_type": "code",
   "execution_count": 14,
   "id": "b858bd64",
   "metadata": {},
   "outputs": [],
   "source": [
    "# Creating the heatmap list of dictionaries\n",
    "from flask import Flask, jsonify\n",
    "session= Session(engine)\n",
    "lat= data_set.latitude\n",
    "long=data_set.longitude\n",
    "\n",
    "\n",
    "sel=[lat,long]\n",
    "query_l= session.query(*sel).limit(10).all()\n",
    "session.close()\n",
    "\n",
    "heat_map_list=[]\n",
    "\n",
    "for la,lo in query_l:\n",
    "    dict_1={}\n",
    "    \n",
    "    dict_1[\"longitude\"]= lo\n",
    "    dict_1[\"latitude\"]=la\n",
    "\n",
    "    heat_map_list.append(dict_1)\n",
    "    \n",
    "\n",
    "\n"
   ]
  },
  {
   "cell_type": "code",
   "execution_count": null,
   "id": "887b3024",
   "metadata": {},
   "outputs": [],
   "source": [
    "# Testing The lat & Long data\n",
    "heat_map_list"
   ]
  },
  {
   "cell_type": "code",
   "execution_count": 16,
   "id": "284a92f3",
   "metadata": {},
   "outputs": [],
   "source": [
    "# Part II: Map\n",
    "#  County, Price, Bedrooms, Review Scores_rating\n",
    "session=Session(engine)\n",
    "listing= data_set.host_total_listings_count\n",
    "county= data_set.county\n",
    "price= data_set.price\n",
    "bedrooms= data_set.bedrooms\n",
    "rs= data_set.review_scores_rating\n",
    "\n",
    "sel= [listing,county,price,bedrooms,rs]\n",
    "query_2= session.query(*sel).limit(10).all()\n",
    "\n",
    "bar_g= []\n",
    "for l,c,p,b,r in query_2:\n",
    "    dict_2={}\n",
    "    dict_2[\"listing\"]= l\n",
    "    dict_2[\"county\"]=c\n",
    "    dict_2[\"price\"]=p\n",
    "    dict_2[\"bedroom\"]=b\n",
    "    dict_2[\"review_score\"]=r\n",
    "    bar_g.append(dict_2)\n",
    "    "
   ]
  },
  {
   "cell_type": "code",
   "execution_count": 17,
   "id": "0d4fe0e3",
   "metadata": {},
   "outputs": [
    {
     "data": {
      "text/plain": [
       "[{'listing': 2,\n",
       "  'county': 'Hennepin',\n",
       "  'price': 91.0,\n",
       "  'bedroom': 1.0,\n",
       "  'review_score': 4.8},\n",
       " {'listing': 2,\n",
       "  'county': 'Hennepin',\n",
       "  'price': 58.0,\n",
       "  'bedroom': 2.0,\n",
       "  'review_score': 4.88},\n",
       " {'listing': 2,\n",
       "  'county': 'Hennepin',\n",
       "  'price': 64.0,\n",
       "  'bedroom': 2.0,\n",
       "  'review_score': 4.78},\n",
       " {'listing': 2,\n",
       "  'county': 'Hennepin',\n",
       "  'price': 64.0,\n",
       "  'bedroom': 2.0,\n",
       "  'review_score': 4.96},\n",
       " {'listing': 23,\n",
       "  'county': 'Hennepin',\n",
       "  'price': 167.0,\n",
       "  'bedroom': 5.0,\n",
       "  'review_score': 4.93},\n",
       " {'listing': 1,\n",
       "  'county': 'Hennepin',\n",
       "  'price': 438.0,\n",
       "  'bedroom': 5.0,\n",
       "  'review_score': 5.0},\n",
       " {'listing': 2,\n",
       "  'county': 'Hennepin',\n",
       "  'price': 125.0,\n",
       "  'bedroom': 1.0,\n",
       "  'review_score': 4.93},\n",
       " {'listing': 4,\n",
       "  'county': 'Ramsey',\n",
       "  'price': 75.0,\n",
       "  'bedroom': 1.0,\n",
       "  'review_score': 4.9},\n",
       " {'listing': 1,\n",
       "  'county': 'Hennepin',\n",
       "  'price': 70.0,\n",
       "  'bedroom': 1.0,\n",
       "  'review_score': 4.78},\n",
       " {'listing': 4,\n",
       "  'county': 'Ramsey',\n",
       "  'price': 48.0,\n",
       "  'bedroom': 1.0,\n",
       "  'review_score': 4.87}]"
      ]
     },
     "execution_count": 17,
     "metadata": {},
     "output_type": "execute_result"
    }
   ],
   "source": [
    "bar_g"
   ]
  },
  {
   "cell_type": "code",
   "execution_count": null,
   "id": "c51a7c2e",
   "metadata": {},
   "outputs": [],
   "source": []
  }
 ],
 "metadata": {
  "kernelspec": {
   "display_name": "Python 3 (ipykernel)",
   "language": "python",
   "name": "python3"
  },
  "language_info": {
   "codemirror_mode": {
    "name": "ipython",
    "version": 3
   },
   "file_extension": ".py",
   "mimetype": "text/x-python",
   "name": "python",
   "nbconvert_exporter": "python",
   "pygments_lexer": "ipython3",
   "version": "3.7.7"
  }
 },
 "nbformat": 4,
 "nbformat_minor": 5
}
