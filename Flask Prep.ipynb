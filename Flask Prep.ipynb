{
 "cells": [
  {
   "cell_type": "code",
   "execution_count": 1,
   "id": "aa2a8318",
   "metadata": {},
   "outputs": [],
   "source": [
    "# Python SQL toolkit and Object Relational Mapper\n",
    "import sqlalchemy\n",
    "from sqlalchemy.ext.automap import automap_base\n",
    "from sqlalchemy.orm import Session\n",
    "from sqlalchemy import create_engine, func,inspect\n",
    "from pprint import pprint"
   ]
  },
  {
   "cell_type": "code",
   "execution_count": 2,
   "id": "abe22508",
   "metadata": {},
   "outputs": [],
   "source": [
    "# create engine to sqlite data\n",
    "engine = create_engine(\"sqlite:///abnb.sqlite\")"
   ]
  },
  {
   "cell_type": "code",
   "execution_count": 3,
   "id": "2afe901c",
   "metadata": {},
   "outputs": [],
   "source": [
    "# Reflect the existing databse in a new model\n",
    "Base= automap_base()\n",
    "Base.prepare(autoload_with=engine)"
   ]
  },
  {
   "cell_type": "code",
   "execution_count": 4,
   "id": "312c5009",
   "metadata": {},
   "outputs": [
    {
     "data": {
      "text/plain": [
       "['bnb_dset']"
      ]
     },
     "execution_count": 4,
     "metadata": {},
     "output_type": "execute_result"
    }
   ],
   "source": [
    "# View all of the classes that automap found\n",
    "Base.classes.keys()"
   ]
  },
  {
   "cell_type": "code",
   "execution_count": 5,
   "id": "fda3e739",
   "metadata": {},
   "outputs": [],
   "source": [
    "# Refrence to each table\n",
    "data_set= Base.classes.bnb_dset\n"
   ]
  },
  {
   "cell_type": "code",
   "execution_count": 6,
   "id": "6702918f",
   "metadata": {},
   "outputs": [],
   "source": [
    "# Create our session\n",
    "session= Session(engine)"
   ]
  },
  {
   "cell_type": "code",
   "execution_count": 7,
   "id": "57c78a48",
   "metadata": {},
   "outputs": [],
   "source": [
    "# Inspect to look at columns\n",
    "inspector= inspect(engine)\n",
    "column_1= inspector.get_columns('lattidue')\n",
    "\n",
    "for c in column_1:\n",
    "    print(c['name'],c['type'])\n"
   ]
  },
  {
   "cell_type": "code",
   "execution_count": 8,
   "id": "f6ea02f3",
   "metadata": {},
   "outputs": [
    {
     "name": "stdout",
     "output_type": "stream",
     "text": [
      "('Cozy Artist’s Abode, NE Mpls - Pets, Wifi, Roku TV',)\n",
      "('Charming, 1 or 2BR + private bath, near downtown',)\n",
      "('Parks, Lakes, Downtown, Light rail',)\n",
      "('Rest and Rehearsal Space',)\n",
      "('★ParkFront ★ Walk 2 Downtown ★ Bike Score 98★',)\n"
     ]
    }
   ],
   "source": [
    "# Unpacking lat\n",
    "session= Session(engine)\n",
    "data= session.query(data_set.name).limit(5)\n",
    "for d in data:\n",
    "     pprint(d)"
   ]
  },
  {
   "cell_type": "code",
   "execution_count": 9,
   "id": "7df169d4",
   "metadata": {},
   "outputs": [],
   "source": [
    "# Creating the heatmap list of dictionaries\n",
    "from flask import Flask, jsonify\n",
    "session= Session(engine)\n",
    "lat= data_set.latitude\n",
    "long=data_set.longitude\n",
    "\n",
    "\n",
    "sel=[lat,long]\n",
    "query_l= session.query(*sel).limit(10).all()\n",
    "session.close()\n",
    "\n",
    "heat_map_list=[]\n",
    "\n",
    "for la,lo in query_l:\n",
    "    dict_1={}\n",
    "    \n",
    "    dict_1[\"longitude\"]= lo\n",
    "    dict_1[\"latitude\"]=la\n",
    "\n",
    "    heat_map_list.append(dict_1)\n",
    "    \n",
    "\n",
    "\n"
   ]
  },
  {
   "cell_type": "code",
   "execution_count": 10,
   "id": "c181cf5e",
   "metadata": {},
   "outputs": [
    {
     "data": {
      "text/plain": [
       "[{'longitude': -93.23424, 'latitude': 45.00862},\n",
       " {'longitude': -93.35721, 'latitude': 44.94566},\n",
       " {'longitude': -93.22899, 'latitude': 44.92016},\n",
       " {'longitude': -93.23011, 'latitude': 44.91995},\n",
       " {'longitude': -93.25188, 'latitude': 44.98712},\n",
       " {'longitude': -93.3628, 'latitude': 44.98197},\n",
       " {'longitude': -93.31824, 'latitude': 45.01615},\n",
       " {'longitude': -93.18981, 'latitude': 44.97611},\n",
       " {'longitude': -93.24872, 'latitude': 44.9436},\n",
       " {'longitude': -93.17278, 'latitude': 44.94723}]"
      ]
     },
     "execution_count": 10,
     "metadata": {},
     "output_type": "execute_result"
    }
   ],
   "source": [
    "# Testing The lat & Long data\n",
    "heat_map_list"
   ]
  },
  {
   "cell_type": "code",
   "execution_count": 22,
   "id": "ad6ea1e3",
   "metadata": {},
   "outputs": [],
   "source": [
    "# Part II: Map\n",
    "#  County, Price, review_scores_cleanliness, Review Scores_rating,review_scores_location\n",
    "session=Session(engine)\n",
    "county= data_set.county\n",
    "listing= func.avg(data_set.host_total_listings_count)\n",
    "price= func.avg(data_set.price)\n",
    "clean= func.avg(data_set.review_scores_cleanliness)\n",
    "loc= func.avg(data_set.review_scores_location)\n",
    "rs= func.avg(data_set.review_scores_rating)\n",
    "\n",
    "sel= [county,listing,price,clean,loc,rs]\n",
    "query_2= session.query(*sel).group_by(data_set.county).limit(10).all()\n",
    "session.close()\n",
    "bar_g= []\n",
    "for c,li,p,cl,lo,r in query_2:\n",
    "    dict_2={}\n",
    "    dict_2[\"avg_listing_count\"]= li\n",
    "    dict_2[\"county\"]=c\n",
    "    dict_2[\"avg_price\"]=p\n",
    "    dict_2[\"avg_cleanliness_score\"]=cl\n",
    "    dict_2[\"avg_review_score\"]=r\n",
    "    dict_2[\"avg_loc_score\"]=lo\n",
    "    bar_g.append(dict_2)\n",
    "    "
   ]
  },
  {
   "cell_type": "code",
   "execution_count": 23,
   "id": "9247118c",
   "metadata": {},
   "outputs": [
    {
     "data": {
      "text/plain": [
       "[{'avg_listing_count': 20.006802721088434,\n",
       "  'county': 'Anoka',\n",
       "  'avg_price': 184.7482993197279,\n",
       "  'avg_cleanliness_score': 4.797959183673471,\n",
       "  'avg_review_score': 4.825102040816325,\n",
       "  'avg_loc_score': 4.848163265306123},\n",
       " {'avg_listing_count': 47.964285714285715,\n",
       "  'county': 'Carver',\n",
       "  'avg_price': 301.0,\n",
       "  'avg_cleanliness_score': 4.824285714285714,\n",
       "  'avg_review_score': 4.846607142857143,\n",
       "  'avg_loc_score': 4.894642857142857},\n",
       " {'avg_listing_count': 50.81333333333333,\n",
       "  'county': 'Chisago',\n",
       "  'avg_price': 225.6,\n",
       "  'avg_cleanliness_score': 4.823866666666667,\n",
       "  'avg_review_score': 4.815200000000001,\n",
       "  'avg_loc_score': 4.886},\n",
       " {'avg_listing_count': 30.757575757575758,\n",
       "  'county': 'Dakota',\n",
       "  'avg_price': 191.86060606060607,\n",
       "  'avg_cleanliness_score': 4.763515151515151,\n",
       "  'avg_review_score': 4.783515151515153,\n",
       "  'avg_loc_score': 4.858242424242424},\n",
       " {'avg_listing_count': 51.434472208057116,\n",
       "  'county': 'Hennepin',\n",
       "  'avg_price': 158.63284038755737,\n",
       "  'avg_cleanliness_score': 4.812299847016822,\n",
       "  'avg_review_score': 4.817057623661388,\n",
       "  'avg_loc_score': 4.847159612442628},\n",
       " {'avg_listing_count': 130.7391304347826,\n",
       "  'county': 'Isanti',\n",
       "  'avg_price': 228.1304347826087,\n",
       "  'avg_cleanliness_score': 4.880434782608695,\n",
       "  'avg_review_score': 4.908695652173913,\n",
       "  'avg_loc_score': 4.934347826086956},\n",
       " {'avg_listing_count': 1.5625,\n",
       "  'county': 'Le Sueur',\n",
       "  'avg_price': 286.9375,\n",
       "  'avg_cleanliness_score': 4.92375,\n",
       "  'avg_review_score': 4.873125,\n",
       "  'avg_loc_score': 4.797499999999999},\n",
       " {'avg_listing_count': 66.83098591549296,\n",
       "  'county': 'Mille Lacs',\n",
       "  'avg_price': 280.8169014084507,\n",
       "  'avg_cleanliness_score': 4.770281690140845,\n",
       "  'avg_review_score': 4.806619718309858,\n",
       "  'avg_loc_score': 4.861971830985916},\n",
       " {'avg_listing_count': 9.418604651162791,\n",
       "  'county': 'Pierce',\n",
       "  'avg_price': 255.69767441860466,\n",
       "  'avg_cleanliness_score': 4.909999999999999,\n",
       "  'avg_review_score': 4.908837209302327,\n",
       "  'avg_loc_score': 4.909767441860465},\n",
       " {'avg_listing_count': 22.605156037991858,\n",
       "  'county': 'Ramsey',\n",
       "  'avg_price': 138.95251017639077,\n",
       "  'avg_cleanliness_score': 4.785237449118046,\n",
       "  'avg_review_score': 4.806024423337856,\n",
       "  'avg_loc_score': 4.8245318860244275}]"
      ]
     },
     "execution_count": 23,
     "metadata": {},
     "output_type": "execute_result"
    }
   ],
   "source": [
    "bar_g"
   ]
  },
  {
   "cell_type": "code",
   "execution_count": null,
   "id": "04f02ee3",
   "metadata": {},
   "outputs": [],
   "source": [
    "# Part III: Cluster Map: Name, SuperHost, Lat & Long, Price,Accomodates, Property_type, Review_score\n",
    "session=Session(engine)\n",
    "name= data_set.name\n",
    "super_host= data_set.host_is_superhost\n",
    "price= data_set.price\n",
    "lat= data_set.latitude\n",
    "long=data_set.longitude\n",
    "rs= data_set.review_scores_rating\n",
    "accom= data_set.accommodates\n",
    "property_type= data_set.property_type\n",
    "\n",
    "\n",
    "sel= [name,super_host,price,lat,long,rs,accom,property_type]\n",
    "query_2= session.query(*sel).limit(10).all()\n",
    "\n",
    "cluster_g= []\n",
    "for n,s,p,la,lo,r,a,pt in query_2:\n",
    "    \n",
    "    dict_3={}\n",
    "    dict_3[\"name\"]= n\n",
    "    dict_3[\"super_host\"]=s\n",
    "    dict_3[\"price\"]=p\n",
    "    dict_3[\"latitude\"]=la\n",
    "    dict_3[\"longitude\"]=lo\n",
    "    dict_3[\"review_score\"]=r\n",
    "    dict_3[\"people_accommodates\"]=a\n",
    "    dict_3[\"property_type\"]=pt\n",
    "    \n",
    "    \n",
    "    cluster_g.append(dict_3)"
   ]
  },
  {
   "cell_type": "code",
   "execution_count": null,
   "id": "b1d3e411",
   "metadata": {},
   "outputs": [],
   "source": [
    "cluster_g"
   ]
  },
  {
   "cell_type": "code",
   "execution_count": null,
   "id": "f7f82f4b",
   "metadata": {},
   "outputs": [],
   "source": []
  }
 ],
 "metadata": {
  "kernelspec": {
   "display_name": "Python 3 (ipykernel)",
   "language": "python",
   "name": "python3"
  },
  "language_info": {
   "codemirror_mode": {
    "name": "ipython",
    "version": 3
   },
   "file_extension": ".py",
   "mimetype": "text/x-python",
   "name": "python",
   "nbconvert_exporter": "python",
   "pygments_lexer": "ipython3",
   "version": "3.7.7"
  }
 },
 "nbformat": 4,
 "nbformat_minor": 5
}
