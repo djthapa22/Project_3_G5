{
 "cells": [
  {
   "cell_type": "code",
   "execution_count": 1,
   "id": "459503bc",
   "metadata": {},
   "outputs": [],
   "source": [
    "# Python SQL toolkit and Object Relational Mapper\n",
    "import sqlalchemy\n",
    "from sqlalchemy.ext.automap import automap_base\n",
    "from sqlalchemy.orm import Session\n",
    "from sqlalchemy import create_engine, func,inspect\n",
    "from pprint import pprint"
   ]
  },
  {
   "cell_type": "code",
   "execution_count": 2,
   "id": "2d2841a5",
   "metadata": {},
   "outputs": [],
   "source": [
    "# create engine to sqlite data\n",
    "engine = create_engine(\"sqlite:///abnb.sqlite\")"
   ]
  },
  {
   "cell_type": "code",
   "execution_count": 3,
   "id": "85a8aebd",
   "metadata": {},
   "outputs": [],
   "source": [
    "# Reflect the existing databse in a new model\n",
    "Base= automap_base()\n",
    "Base.prepare(autoload_with=engine)"
   ]
  },
  {
   "cell_type": "code",
   "execution_count": 4,
   "id": "49ed33d7",
   "metadata": {},
   "outputs": [
    {
     "data": {
      "text/plain": [
       "['bnb_dset']"
      ]
     },
     "execution_count": 4,
     "metadata": {},
     "output_type": "execute_result"
    }
   ],
   "source": [
    "# View all of the classes that automap found\n",
    "Base.classes.keys()"
   ]
  },
  {
   "cell_type": "code",
   "execution_count": 5,
   "id": "15353d13",
   "metadata": {},
   "outputs": [],
   "source": [
    "# Refrence to each table\n",
    "data_set= Base.classes.bnb_dset\n"
   ]
  },
  {
   "cell_type": "code",
   "execution_count": 6,
   "id": "dd05c059",
   "metadata": {},
   "outputs": [],
   "source": [
    "# Create our session\n",
    "session= Session(engine)"
   ]
  },
  {
   "cell_type": "code",
   "execution_count": 7,
   "id": "f7963eda",
   "metadata": {},
   "outputs": [],
   "source": [
    "# Inspect to look at columns\n",
    "inspector= inspect(engine)\n",
    "column_1= inspector.get_columns('b_dset')\n",
    "\n",
    "for c in column_1:\n",
    "    print(c['name'],c['type'])\n"
   ]
  },
  {
   "cell_type": "code",
   "execution_count": 9,
   "id": "9c53a402",
   "metadata": {},
   "outputs": [
    {
     "name": "stdout",
     "output_type": "stream",
     "text": [
      "('Cozy Artist’s Abode, NE Mpls - Pets, Wifi, Roku TV',)\n",
      "('Charming, 1 or 2BR + private bath, near downtown',)\n",
      "('Parks, Lakes, Downtown, Light rail',)\n",
      "('Rest and Rehearsal Space',)\n",
      "('★ParkFront ★ Walk 2 Downtown ★ Bike Score 98★',)\n"
     ]
    }
   ],
   "source": [
    "# Unpacking lat\n",
    "session= Session(engine)\n",
    "data= session.query(data_set.name).limit(5)\n",
    "for d in data:\n",
    "     pprint(d)"
   ]
  },
  {
   "cell_type": "code",
   "execution_count": 12,
   "id": "2b135fd7",
   "metadata": {},
   "outputs": [],
   "source": [
    "# Creating the heatmap list of dictionaries\n",
    "from flask import Flask, jsonify\n",
    "session= Session(engine)\n",
    "lat= data_set.latitude\n",
    "long=data_set.longitude\n",
    "\n",
    "\n",
    "sel=[lat,long]\n",
    "query_l= session.query(*sel).limit(10).all()\n",
    "session.close()\n",
    "\n",
    "heat_map_list=[]\n",
    "\n",
    "for la,lo in query_l:\n",
    "    dict_1={}\n",
    "    \n",
    "    dict_1[\"longitude\"]= lo\n",
    "    dict_1[\"latitude\"]=la\n",
    "\n",
    "    heat_map_list.append(dict_1)\n",
    "    \n",
    "\n",
    "\n"
   ]
  },
  {
   "cell_type": "code",
   "execution_count": 13,
   "id": "56442eab",
   "metadata": {},
   "outputs": [
    {
     "data": {
      "text/plain": [
       "[{'longitude': -93.23424, 'latitude': 45.00862},\n",
       " {'longitude': -93.35721, 'latitude': 44.94566},\n",
       " {'longitude': -93.22899, 'latitude': 44.92016},\n",
       " {'longitude': -93.23011, 'latitude': 44.91995},\n",
       " {'longitude': -93.25188, 'latitude': 44.98712},\n",
       " {'longitude': -93.3628, 'latitude': 44.98197},\n",
       " {'longitude': -93.31824, 'latitude': 45.01615},\n",
       " {'longitude': -93.18981, 'latitude': 44.97611},\n",
       " {'longitude': -93.24872, 'latitude': 44.9436},\n",
       " {'longitude': -93.17278, 'latitude': 44.94723}]"
      ]
     },
     "execution_count": 13,
     "metadata": {},
     "output_type": "execute_result"
    }
   ],
   "source": [
    "heat_map_list"
   ]
  },
  {
   "cell_type": "code",
   "execution_count": null,
   "id": "e594637d",
   "metadata": {},
   "outputs": [],
   "source": []
  }
 ],
 "metadata": {
  "kernelspec": {
   "display_name": "Python 3 (ipykernel)",
   "language": "python",
   "name": "python3"
  },
  "language_info": {
   "codemirror_mode": {
    "name": "ipython",
    "version": 3
   },
   "file_extension": ".py",
   "mimetype": "text/x-python",
   "name": "python",
   "nbconvert_exporter": "python",
   "pygments_lexer": "ipython3",
   "version": "3.7.7"
  }
 },
 "nbformat": 4,
 "nbformat_minor": 5
}
